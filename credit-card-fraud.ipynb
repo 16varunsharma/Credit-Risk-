{
 "cells": [
  {
   "cell_type": "code",
   "execution_count": 1,
   "id": "6adcff3b",
   "metadata": {
    "_cell_guid": "b1076dfc-b9ad-4769-8c92-a6c4dae69d19",
    "_uuid": "8f2839f25d086af736a60e9eeb907d3b93b6e0e5",
    "execution": {
     "iopub.execute_input": "2024-09-05T19:33:58.911217Z",
     "iopub.status.busy": "2024-09-05T19:33:58.910642Z",
     "iopub.status.idle": "2024-09-05T19:33:59.402814Z",
     "shell.execute_reply": "2024-09-05T19:33:59.401429Z"
    },
    "papermill": {
     "duration": 0.510044,
     "end_time": "2024-09-05T19:33:59.405756",
     "exception": false,
     "start_time": "2024-09-05T19:33:58.895712",
     "status": "completed"
    },
    "tags": []
   },
   "outputs": [
    {
     "name": "stdout",
     "output_type": "stream",
     "text": [
      "/kaggle/input/creditcardfraud/creditcard.csv\n"
     ]
    }
   ],
   "source": [
    "# This Python 3 environment comes with many helpful analytics libraries installed\n",
    "# It is defined by the kaggle/python Docker image: https://github.com/kaggle/docker-python\n",
    "# For example, here's several helpful packages to load\n",
    "\n",
    "import numpy as np # linear algebra\n",
    "import pandas as pd # data processing, CSV file I/O (e.g. pd.read_csv)\n",
    "\n",
    "# Input data files are available in the read-only \"../input/\" directory\n",
    "# For example, running this (by clicking run or pressing Shift+Enter) will list all files under the input directory\n",
    "\n",
    "import os\n",
    "for dirname, _, filenames in os.walk('/kaggle/input'):\n",
    "    for filename in filenames:\n",
    "        print(os.path.join(dirname, filename))\n",
    "\n",
    "# You can write up to 20GB to the current directory (/kaggle/working/) that gets preserved as output when you create a version using \"Save & Run All\" \n",
    "# You can also write temporary files to /kaggle/temp/, but they won't be saved outside of the current session"
   ]
  },
  {
   "cell_type": "code",
   "execution_count": 2,
   "id": "d5afa029",
   "metadata": {
    "execution": {
     "iopub.execute_input": "2024-09-05T19:33:59.430113Z",
     "iopub.status.busy": "2024-09-05T19:33:59.429515Z",
     "iopub.status.idle": "2024-09-05T19:34:01.600019Z",
     "shell.execute_reply": "2024-09-05T19:34:01.598863Z"
    },
    "papermill": {
     "duration": 2.185853,
     "end_time": "2024-09-05T19:34:01.602909",
     "exception": false,
     "start_time": "2024-09-05T19:33:59.417056",
     "status": "completed"
    },
    "tags": []
   },
   "outputs": [],
   "source": [
    "import numpy as np\n",
    "import pandas as pd\n",
    "import matplotlib.pyplot as plt\n",
    "%matplotlib inline\n",
    "import seaborn as sns\n",
    "from sklearn.model_selection import train_test_split\n",
    "from sklearn.linear_model import LogisticRegression\n",
    "from sklearn.metrics import accuracy_score\n"
   ]
  },
  {
   "cell_type": "code",
   "execution_count": 3,
   "id": "28a78f3a",
   "metadata": {
    "execution": {
     "iopub.execute_input": "2024-09-05T19:34:01.626213Z",
     "iopub.status.busy": "2024-09-05T19:34:01.625622Z",
     "iopub.status.idle": "2024-09-05T19:34:06.377957Z",
     "shell.execute_reply": "2024-09-05T19:34:06.376738Z"
    },
    "papermill": {
     "duration": 4.766832,
     "end_time": "2024-09-05T19:34:06.380821",
     "exception": false,
     "start_time": "2024-09-05T19:34:01.613989",
     "status": "completed"
    },
    "tags": []
   },
   "outputs": [],
   "source": [
    "card = pd.read_csv('/kaggle/input/creditcardfraud/creditcard.csv')"
   ]
  },
  {
   "cell_type": "code",
   "execution_count": 4,
   "id": "612ef04f",
   "metadata": {
    "execution": {
     "iopub.execute_input": "2024-09-05T19:34:06.403454Z",
     "iopub.status.busy": "2024-09-05T19:34:06.402994Z",
     "iopub.status.idle": "2024-09-05T19:34:06.449067Z",
     "shell.execute_reply": "2024-09-05T19:34:06.447799Z"
    },
    "papermill": {
     "duration": 0.060485,
     "end_time": "2024-09-05T19:34:06.451789",
     "exception": false,
     "start_time": "2024-09-05T19:34:06.391304",
     "status": "completed"
    },
    "tags": []
   },
   "outputs": [
    {
     "data": {
      "text/html": [
       "<div>\n",
       "<style scoped>\n",
       "    .dataframe tbody tr th:only-of-type {\n",
       "        vertical-align: middle;\n",
       "    }\n",
       "\n",
       "    .dataframe tbody tr th {\n",
       "        vertical-align: top;\n",
       "    }\n",
       "\n",
       "    .dataframe thead th {\n",
       "        text-align: right;\n",
       "    }\n",
       "</style>\n",
       "<table border=\"1\" class=\"dataframe\">\n",
       "  <thead>\n",
       "    <tr style=\"text-align: right;\">\n",
       "      <th></th>\n",
       "      <th>Time</th>\n",
       "      <th>V1</th>\n",
       "      <th>V2</th>\n",
       "      <th>V3</th>\n",
       "      <th>V4</th>\n",
       "      <th>V5</th>\n",
       "      <th>V6</th>\n",
       "      <th>V7</th>\n",
       "      <th>V8</th>\n",
       "      <th>V9</th>\n",
       "      <th>...</th>\n",
       "      <th>V21</th>\n",
       "      <th>V22</th>\n",
       "      <th>V23</th>\n",
       "      <th>V24</th>\n",
       "      <th>V25</th>\n",
       "      <th>V26</th>\n",
       "      <th>V27</th>\n",
       "      <th>V28</th>\n",
       "      <th>Amount</th>\n",
       "      <th>Class</th>\n",
       "    </tr>\n",
       "  </thead>\n",
       "  <tbody>\n",
       "    <tr>\n",
       "      <th>0</th>\n",
       "      <td>0.0</td>\n",
       "      <td>-1.359807</td>\n",
       "      <td>-0.072781</td>\n",
       "      <td>2.536347</td>\n",
       "      <td>1.378155</td>\n",
       "      <td>-0.338321</td>\n",
       "      <td>0.462388</td>\n",
       "      <td>0.239599</td>\n",
       "      <td>0.098698</td>\n",
       "      <td>0.363787</td>\n",
       "      <td>...</td>\n",
       "      <td>-0.018307</td>\n",
       "      <td>0.277838</td>\n",
       "      <td>-0.110474</td>\n",
       "      <td>0.066928</td>\n",
       "      <td>0.128539</td>\n",
       "      <td>-0.189115</td>\n",
       "      <td>0.133558</td>\n",
       "      <td>-0.021053</td>\n",
       "      <td>149.62</td>\n",
       "      <td>0</td>\n",
       "    </tr>\n",
       "    <tr>\n",
       "      <th>1</th>\n",
       "      <td>0.0</td>\n",
       "      <td>1.191857</td>\n",
       "      <td>0.266151</td>\n",
       "      <td>0.166480</td>\n",
       "      <td>0.448154</td>\n",
       "      <td>0.060018</td>\n",
       "      <td>-0.082361</td>\n",
       "      <td>-0.078803</td>\n",
       "      <td>0.085102</td>\n",
       "      <td>-0.255425</td>\n",
       "      <td>...</td>\n",
       "      <td>-0.225775</td>\n",
       "      <td>-0.638672</td>\n",
       "      <td>0.101288</td>\n",
       "      <td>-0.339846</td>\n",
       "      <td>0.167170</td>\n",
       "      <td>0.125895</td>\n",
       "      <td>-0.008983</td>\n",
       "      <td>0.014724</td>\n",
       "      <td>2.69</td>\n",
       "      <td>0</td>\n",
       "    </tr>\n",
       "    <tr>\n",
       "      <th>2</th>\n",
       "      <td>1.0</td>\n",
       "      <td>-1.358354</td>\n",
       "      <td>-1.340163</td>\n",
       "      <td>1.773209</td>\n",
       "      <td>0.379780</td>\n",
       "      <td>-0.503198</td>\n",
       "      <td>1.800499</td>\n",
       "      <td>0.791461</td>\n",
       "      <td>0.247676</td>\n",
       "      <td>-1.514654</td>\n",
       "      <td>...</td>\n",
       "      <td>0.247998</td>\n",
       "      <td>0.771679</td>\n",
       "      <td>0.909412</td>\n",
       "      <td>-0.689281</td>\n",
       "      <td>-0.327642</td>\n",
       "      <td>-0.139097</td>\n",
       "      <td>-0.055353</td>\n",
       "      <td>-0.059752</td>\n",
       "      <td>378.66</td>\n",
       "      <td>0</td>\n",
       "    </tr>\n",
       "    <tr>\n",
       "      <th>3</th>\n",
       "      <td>1.0</td>\n",
       "      <td>-0.966272</td>\n",
       "      <td>-0.185226</td>\n",
       "      <td>1.792993</td>\n",
       "      <td>-0.863291</td>\n",
       "      <td>-0.010309</td>\n",
       "      <td>1.247203</td>\n",
       "      <td>0.237609</td>\n",
       "      <td>0.377436</td>\n",
       "      <td>-1.387024</td>\n",
       "      <td>...</td>\n",
       "      <td>-0.108300</td>\n",
       "      <td>0.005274</td>\n",
       "      <td>-0.190321</td>\n",
       "      <td>-1.175575</td>\n",
       "      <td>0.647376</td>\n",
       "      <td>-0.221929</td>\n",
       "      <td>0.062723</td>\n",
       "      <td>0.061458</td>\n",
       "      <td>123.50</td>\n",
       "      <td>0</td>\n",
       "    </tr>\n",
       "    <tr>\n",
       "      <th>4</th>\n",
       "      <td>2.0</td>\n",
       "      <td>-1.158233</td>\n",
       "      <td>0.877737</td>\n",
       "      <td>1.548718</td>\n",
       "      <td>0.403034</td>\n",
       "      <td>-0.407193</td>\n",
       "      <td>0.095921</td>\n",
       "      <td>0.592941</td>\n",
       "      <td>-0.270533</td>\n",
       "      <td>0.817739</td>\n",
       "      <td>...</td>\n",
       "      <td>-0.009431</td>\n",
       "      <td>0.798278</td>\n",
       "      <td>-0.137458</td>\n",
       "      <td>0.141267</td>\n",
       "      <td>-0.206010</td>\n",
       "      <td>0.502292</td>\n",
       "      <td>0.219422</td>\n",
       "      <td>0.215153</td>\n",
       "      <td>69.99</td>\n",
       "      <td>0</td>\n",
       "    </tr>\n",
       "  </tbody>\n",
       "</table>\n",
       "<p>5 rows × 31 columns</p>\n",
       "</div>"
      ],
      "text/plain": [
       "   Time        V1        V2        V3        V4        V5        V6        V7  \\\n",
       "0   0.0 -1.359807 -0.072781  2.536347  1.378155 -0.338321  0.462388  0.239599   \n",
       "1   0.0  1.191857  0.266151  0.166480  0.448154  0.060018 -0.082361 -0.078803   \n",
       "2   1.0 -1.358354 -1.340163  1.773209  0.379780 -0.503198  1.800499  0.791461   \n",
       "3   1.0 -0.966272 -0.185226  1.792993 -0.863291 -0.010309  1.247203  0.237609   \n",
       "4   2.0 -1.158233  0.877737  1.548718  0.403034 -0.407193  0.095921  0.592941   \n",
       "\n",
       "         V8        V9  ...       V21       V22       V23       V24       V25  \\\n",
       "0  0.098698  0.363787  ... -0.018307  0.277838 -0.110474  0.066928  0.128539   \n",
       "1  0.085102 -0.255425  ... -0.225775 -0.638672  0.101288 -0.339846  0.167170   \n",
       "2  0.247676 -1.514654  ...  0.247998  0.771679  0.909412 -0.689281 -0.327642   \n",
       "3  0.377436 -1.387024  ... -0.108300  0.005274 -0.190321 -1.175575  0.647376   \n",
       "4 -0.270533  0.817739  ... -0.009431  0.798278 -0.137458  0.141267 -0.206010   \n",
       "\n",
       "        V26       V27       V28  Amount  Class  \n",
       "0 -0.189115  0.133558 -0.021053  149.62      0  \n",
       "1  0.125895 -0.008983  0.014724    2.69      0  \n",
       "2 -0.139097 -0.055353 -0.059752  378.66      0  \n",
       "3 -0.221929  0.062723  0.061458  123.50      0  \n",
       "4  0.502292  0.219422  0.215153   69.99      0  \n",
       "\n",
       "[5 rows x 31 columns]"
      ]
     },
     "execution_count": 4,
     "metadata": {},
     "output_type": "execute_result"
    }
   ],
   "source": [
    "card.head()"
   ]
  },
  {
   "cell_type": "code",
   "execution_count": 5,
   "id": "9521f17e",
   "metadata": {
    "execution": {
     "iopub.execute_input": "2024-09-05T19:34:06.476873Z",
     "iopub.status.busy": "2024-09-05T19:34:06.476418Z",
     "iopub.status.idle": "2024-09-05T19:34:06.485618Z",
     "shell.execute_reply": "2024-09-05T19:34:06.484210Z"
    },
    "papermill": {
     "duration": 0.024668,
     "end_time": "2024-09-05T19:34:06.488374",
     "exception": false,
     "start_time": "2024-09-05T19:34:06.463706",
     "status": "completed"
    },
    "tags": []
   },
   "outputs": [
    {
     "data": {
      "text/plain": [
       "(284807, 31)"
      ]
     },
     "execution_count": 5,
     "metadata": {},
     "output_type": "execute_result"
    }
   ],
   "source": [
    "card.shape"
   ]
  },
  {
   "cell_type": "code",
   "execution_count": 6,
   "id": "312672c6",
   "metadata": {
    "execution": {
     "iopub.execute_input": "2024-09-05T19:34:06.512101Z",
     "iopub.status.busy": "2024-09-05T19:34:06.511695Z",
     "iopub.status.idle": "2024-09-05T19:34:06.991029Z",
     "shell.execute_reply": "2024-09-05T19:34:06.989812Z"
    },
    "papermill": {
     "duration": 0.494261,
     "end_time": "2024-09-05T19:34:06.993749",
     "exception": false,
     "start_time": "2024-09-05T19:34:06.499488",
     "status": "completed"
    },
    "tags": []
   },
   "outputs": [
    {
     "data": {
      "text/html": [
       "<div>\n",
       "<style scoped>\n",
       "    .dataframe tbody tr th:only-of-type {\n",
       "        vertical-align: middle;\n",
       "    }\n",
       "\n",
       "    .dataframe tbody tr th {\n",
       "        vertical-align: top;\n",
       "    }\n",
       "\n",
       "    .dataframe thead th {\n",
       "        text-align: right;\n",
       "    }\n",
       "</style>\n",
       "<table border=\"1\" class=\"dataframe\">\n",
       "  <thead>\n",
       "    <tr style=\"text-align: right;\">\n",
       "      <th></th>\n",
       "      <th>Time</th>\n",
       "      <th>V1</th>\n",
       "      <th>V2</th>\n",
       "      <th>V3</th>\n",
       "      <th>V4</th>\n",
       "      <th>V5</th>\n",
       "      <th>V6</th>\n",
       "      <th>V7</th>\n",
       "      <th>V8</th>\n",
       "      <th>V9</th>\n",
       "      <th>...</th>\n",
       "      <th>V21</th>\n",
       "      <th>V22</th>\n",
       "      <th>V23</th>\n",
       "      <th>V24</th>\n",
       "      <th>V25</th>\n",
       "      <th>V26</th>\n",
       "      <th>V27</th>\n",
       "      <th>V28</th>\n",
       "      <th>Amount</th>\n",
       "      <th>Class</th>\n",
       "    </tr>\n",
       "  </thead>\n",
       "  <tbody>\n",
       "    <tr>\n",
       "      <th>count</th>\n",
       "      <td>284807.000000</td>\n",
       "      <td>2.848070e+05</td>\n",
       "      <td>2.848070e+05</td>\n",
       "      <td>2.848070e+05</td>\n",
       "      <td>2.848070e+05</td>\n",
       "      <td>2.848070e+05</td>\n",
       "      <td>2.848070e+05</td>\n",
       "      <td>2.848070e+05</td>\n",
       "      <td>2.848070e+05</td>\n",
       "      <td>2.848070e+05</td>\n",
       "      <td>...</td>\n",
       "      <td>2.848070e+05</td>\n",
       "      <td>2.848070e+05</td>\n",
       "      <td>2.848070e+05</td>\n",
       "      <td>2.848070e+05</td>\n",
       "      <td>2.848070e+05</td>\n",
       "      <td>2.848070e+05</td>\n",
       "      <td>2.848070e+05</td>\n",
       "      <td>2.848070e+05</td>\n",
       "      <td>284807.000000</td>\n",
       "      <td>284807.000000</td>\n",
       "    </tr>\n",
       "    <tr>\n",
       "      <th>mean</th>\n",
       "      <td>94813.859575</td>\n",
       "      <td>1.168375e-15</td>\n",
       "      <td>3.416908e-16</td>\n",
       "      <td>-1.379537e-15</td>\n",
       "      <td>2.074095e-15</td>\n",
       "      <td>9.604066e-16</td>\n",
       "      <td>1.487313e-15</td>\n",
       "      <td>-5.556467e-16</td>\n",
       "      <td>1.213481e-16</td>\n",
       "      <td>-2.406331e-15</td>\n",
       "      <td>...</td>\n",
       "      <td>1.654067e-16</td>\n",
       "      <td>-3.568593e-16</td>\n",
       "      <td>2.578648e-16</td>\n",
       "      <td>4.473266e-15</td>\n",
       "      <td>5.340915e-16</td>\n",
       "      <td>1.683437e-15</td>\n",
       "      <td>-3.660091e-16</td>\n",
       "      <td>-1.227390e-16</td>\n",
       "      <td>88.349619</td>\n",
       "      <td>0.001727</td>\n",
       "    </tr>\n",
       "    <tr>\n",
       "      <th>std</th>\n",
       "      <td>47488.145955</td>\n",
       "      <td>1.958696e+00</td>\n",
       "      <td>1.651309e+00</td>\n",
       "      <td>1.516255e+00</td>\n",
       "      <td>1.415869e+00</td>\n",
       "      <td>1.380247e+00</td>\n",
       "      <td>1.332271e+00</td>\n",
       "      <td>1.237094e+00</td>\n",
       "      <td>1.194353e+00</td>\n",
       "      <td>1.098632e+00</td>\n",
       "      <td>...</td>\n",
       "      <td>7.345240e-01</td>\n",
       "      <td>7.257016e-01</td>\n",
       "      <td>6.244603e-01</td>\n",
       "      <td>6.056471e-01</td>\n",
       "      <td>5.212781e-01</td>\n",
       "      <td>4.822270e-01</td>\n",
       "      <td>4.036325e-01</td>\n",
       "      <td>3.300833e-01</td>\n",
       "      <td>250.120109</td>\n",
       "      <td>0.041527</td>\n",
       "    </tr>\n",
       "    <tr>\n",
       "      <th>min</th>\n",
       "      <td>0.000000</td>\n",
       "      <td>-5.640751e+01</td>\n",
       "      <td>-7.271573e+01</td>\n",
       "      <td>-4.832559e+01</td>\n",
       "      <td>-5.683171e+00</td>\n",
       "      <td>-1.137433e+02</td>\n",
       "      <td>-2.616051e+01</td>\n",
       "      <td>-4.355724e+01</td>\n",
       "      <td>-7.321672e+01</td>\n",
       "      <td>-1.343407e+01</td>\n",
       "      <td>...</td>\n",
       "      <td>-3.483038e+01</td>\n",
       "      <td>-1.093314e+01</td>\n",
       "      <td>-4.480774e+01</td>\n",
       "      <td>-2.836627e+00</td>\n",
       "      <td>-1.029540e+01</td>\n",
       "      <td>-2.604551e+00</td>\n",
       "      <td>-2.256568e+01</td>\n",
       "      <td>-1.543008e+01</td>\n",
       "      <td>0.000000</td>\n",
       "      <td>0.000000</td>\n",
       "    </tr>\n",
       "    <tr>\n",
       "      <th>25%</th>\n",
       "      <td>54201.500000</td>\n",
       "      <td>-9.203734e-01</td>\n",
       "      <td>-5.985499e-01</td>\n",
       "      <td>-8.903648e-01</td>\n",
       "      <td>-8.486401e-01</td>\n",
       "      <td>-6.915971e-01</td>\n",
       "      <td>-7.682956e-01</td>\n",
       "      <td>-5.540759e-01</td>\n",
       "      <td>-2.086297e-01</td>\n",
       "      <td>-6.430976e-01</td>\n",
       "      <td>...</td>\n",
       "      <td>-2.283949e-01</td>\n",
       "      <td>-5.423504e-01</td>\n",
       "      <td>-1.618463e-01</td>\n",
       "      <td>-3.545861e-01</td>\n",
       "      <td>-3.171451e-01</td>\n",
       "      <td>-3.269839e-01</td>\n",
       "      <td>-7.083953e-02</td>\n",
       "      <td>-5.295979e-02</td>\n",
       "      <td>5.600000</td>\n",
       "      <td>0.000000</td>\n",
       "    </tr>\n",
       "    <tr>\n",
       "      <th>50%</th>\n",
       "      <td>84692.000000</td>\n",
       "      <td>1.810880e-02</td>\n",
       "      <td>6.548556e-02</td>\n",
       "      <td>1.798463e-01</td>\n",
       "      <td>-1.984653e-02</td>\n",
       "      <td>-5.433583e-02</td>\n",
       "      <td>-2.741871e-01</td>\n",
       "      <td>4.010308e-02</td>\n",
       "      <td>2.235804e-02</td>\n",
       "      <td>-5.142873e-02</td>\n",
       "      <td>...</td>\n",
       "      <td>-2.945017e-02</td>\n",
       "      <td>6.781943e-03</td>\n",
       "      <td>-1.119293e-02</td>\n",
       "      <td>4.097606e-02</td>\n",
       "      <td>1.659350e-02</td>\n",
       "      <td>-5.213911e-02</td>\n",
       "      <td>1.342146e-03</td>\n",
       "      <td>1.124383e-02</td>\n",
       "      <td>22.000000</td>\n",
       "      <td>0.000000</td>\n",
       "    </tr>\n",
       "    <tr>\n",
       "      <th>75%</th>\n",
       "      <td>139320.500000</td>\n",
       "      <td>1.315642e+00</td>\n",
       "      <td>8.037239e-01</td>\n",
       "      <td>1.027196e+00</td>\n",
       "      <td>7.433413e-01</td>\n",
       "      <td>6.119264e-01</td>\n",
       "      <td>3.985649e-01</td>\n",
       "      <td>5.704361e-01</td>\n",
       "      <td>3.273459e-01</td>\n",
       "      <td>5.971390e-01</td>\n",
       "      <td>...</td>\n",
       "      <td>1.863772e-01</td>\n",
       "      <td>5.285536e-01</td>\n",
       "      <td>1.476421e-01</td>\n",
       "      <td>4.395266e-01</td>\n",
       "      <td>3.507156e-01</td>\n",
       "      <td>2.409522e-01</td>\n",
       "      <td>9.104512e-02</td>\n",
       "      <td>7.827995e-02</td>\n",
       "      <td>77.165000</td>\n",
       "      <td>0.000000</td>\n",
       "    </tr>\n",
       "    <tr>\n",
       "      <th>max</th>\n",
       "      <td>172792.000000</td>\n",
       "      <td>2.454930e+00</td>\n",
       "      <td>2.205773e+01</td>\n",
       "      <td>9.382558e+00</td>\n",
       "      <td>1.687534e+01</td>\n",
       "      <td>3.480167e+01</td>\n",
       "      <td>7.330163e+01</td>\n",
       "      <td>1.205895e+02</td>\n",
       "      <td>2.000721e+01</td>\n",
       "      <td>1.559499e+01</td>\n",
       "      <td>...</td>\n",
       "      <td>2.720284e+01</td>\n",
       "      <td>1.050309e+01</td>\n",
       "      <td>2.252841e+01</td>\n",
       "      <td>4.584549e+00</td>\n",
       "      <td>7.519589e+00</td>\n",
       "      <td>3.517346e+00</td>\n",
       "      <td>3.161220e+01</td>\n",
       "      <td>3.384781e+01</td>\n",
       "      <td>25691.160000</td>\n",
       "      <td>1.000000</td>\n",
       "    </tr>\n",
       "  </tbody>\n",
       "</table>\n",
       "<p>8 rows × 31 columns</p>\n",
       "</div>"
      ],
      "text/plain": [
       "                Time            V1            V2            V3            V4  \\\n",
       "count  284807.000000  2.848070e+05  2.848070e+05  2.848070e+05  2.848070e+05   \n",
       "mean    94813.859575  1.168375e-15  3.416908e-16 -1.379537e-15  2.074095e-15   \n",
       "std     47488.145955  1.958696e+00  1.651309e+00  1.516255e+00  1.415869e+00   \n",
       "min         0.000000 -5.640751e+01 -7.271573e+01 -4.832559e+01 -5.683171e+00   \n",
       "25%     54201.500000 -9.203734e-01 -5.985499e-01 -8.903648e-01 -8.486401e-01   \n",
       "50%     84692.000000  1.810880e-02  6.548556e-02  1.798463e-01 -1.984653e-02   \n",
       "75%    139320.500000  1.315642e+00  8.037239e-01  1.027196e+00  7.433413e-01   \n",
       "max    172792.000000  2.454930e+00  2.205773e+01  9.382558e+00  1.687534e+01   \n",
       "\n",
       "                 V5            V6            V7            V8            V9  \\\n",
       "count  2.848070e+05  2.848070e+05  2.848070e+05  2.848070e+05  2.848070e+05   \n",
       "mean   9.604066e-16  1.487313e-15 -5.556467e-16  1.213481e-16 -2.406331e-15   \n",
       "std    1.380247e+00  1.332271e+00  1.237094e+00  1.194353e+00  1.098632e+00   \n",
       "min   -1.137433e+02 -2.616051e+01 -4.355724e+01 -7.321672e+01 -1.343407e+01   \n",
       "25%   -6.915971e-01 -7.682956e-01 -5.540759e-01 -2.086297e-01 -6.430976e-01   \n",
       "50%   -5.433583e-02 -2.741871e-01  4.010308e-02  2.235804e-02 -5.142873e-02   \n",
       "75%    6.119264e-01  3.985649e-01  5.704361e-01  3.273459e-01  5.971390e-01   \n",
       "max    3.480167e+01  7.330163e+01  1.205895e+02  2.000721e+01  1.559499e+01   \n",
       "\n",
       "       ...           V21           V22           V23           V24  \\\n",
       "count  ...  2.848070e+05  2.848070e+05  2.848070e+05  2.848070e+05   \n",
       "mean   ...  1.654067e-16 -3.568593e-16  2.578648e-16  4.473266e-15   \n",
       "std    ...  7.345240e-01  7.257016e-01  6.244603e-01  6.056471e-01   \n",
       "min    ... -3.483038e+01 -1.093314e+01 -4.480774e+01 -2.836627e+00   \n",
       "25%    ... -2.283949e-01 -5.423504e-01 -1.618463e-01 -3.545861e-01   \n",
       "50%    ... -2.945017e-02  6.781943e-03 -1.119293e-02  4.097606e-02   \n",
       "75%    ...  1.863772e-01  5.285536e-01  1.476421e-01  4.395266e-01   \n",
       "max    ...  2.720284e+01  1.050309e+01  2.252841e+01  4.584549e+00   \n",
       "\n",
       "                V25           V26           V27           V28         Amount  \\\n",
       "count  2.848070e+05  2.848070e+05  2.848070e+05  2.848070e+05  284807.000000   \n",
       "mean   5.340915e-16  1.683437e-15 -3.660091e-16 -1.227390e-16      88.349619   \n",
       "std    5.212781e-01  4.822270e-01  4.036325e-01  3.300833e-01     250.120109   \n",
       "min   -1.029540e+01 -2.604551e+00 -2.256568e+01 -1.543008e+01       0.000000   \n",
       "25%   -3.171451e-01 -3.269839e-01 -7.083953e-02 -5.295979e-02       5.600000   \n",
       "50%    1.659350e-02 -5.213911e-02  1.342146e-03  1.124383e-02      22.000000   \n",
       "75%    3.507156e-01  2.409522e-01  9.104512e-02  7.827995e-02      77.165000   \n",
       "max    7.519589e+00  3.517346e+00  3.161220e+01  3.384781e+01   25691.160000   \n",
       "\n",
       "               Class  \n",
       "count  284807.000000  \n",
       "mean        0.001727  \n",
       "std         0.041527  \n",
       "min         0.000000  \n",
       "25%         0.000000  \n",
       "50%         0.000000  \n",
       "75%         0.000000  \n",
       "max         1.000000  \n",
       "\n",
       "[8 rows x 31 columns]"
      ]
     },
     "execution_count": 6,
     "metadata": {},
     "output_type": "execute_result"
    }
   ],
   "source": [
    "card.describe()"
   ]
  },
  {
   "cell_type": "code",
   "execution_count": 7,
   "id": "4ca87ca1",
   "metadata": {
    "execution": {
     "iopub.execute_input": "2024-09-05T19:34:07.019845Z",
     "iopub.status.busy": "2024-09-05T19:34:07.019366Z",
     "iopub.status.idle": "2024-09-05T19:34:07.044083Z",
     "shell.execute_reply": "2024-09-05T19:34:07.042828Z"
    },
    "papermill": {
     "duration": 0.041489,
     "end_time": "2024-09-05T19:34:07.046788",
     "exception": false,
     "start_time": "2024-09-05T19:34:07.005299",
     "status": "completed"
    },
    "tags": []
   },
   "outputs": [
    {
     "data": {
      "text/plain": [
       "Time      0\n",
       "V1        0\n",
       "V2        0\n",
       "V3        0\n",
       "V4        0\n",
       "V5        0\n",
       "V6        0\n",
       "V7        0\n",
       "V8        0\n",
       "V9        0\n",
       "V10       0\n",
       "V11       0\n",
       "V12       0\n",
       "V13       0\n",
       "V14       0\n",
       "V15       0\n",
       "V16       0\n",
       "V17       0\n",
       "V18       0\n",
       "V19       0\n",
       "V20       0\n",
       "V21       0\n",
       "V22       0\n",
       "V23       0\n",
       "V24       0\n",
       "V25       0\n",
       "V26       0\n",
       "V27       0\n",
       "V28       0\n",
       "Amount    0\n",
       "Class     0\n",
       "dtype: int64"
      ]
     },
     "execution_count": 7,
     "metadata": {},
     "output_type": "execute_result"
    }
   ],
   "source": [
    "card.isna().sum()"
   ]
  },
  {
   "cell_type": "code",
   "execution_count": 8,
   "id": "0897bef3",
   "metadata": {
    "execution": {
     "iopub.execute_input": "2024-09-05T19:34:07.071799Z",
     "iopub.status.busy": "2024-09-05T19:34:07.071358Z",
     "iopub.status.idle": "2024-09-05T19:34:07.113615Z",
     "shell.execute_reply": "2024-09-05T19:34:07.112554Z"
    },
    "papermill": {
     "duration": 0.058064,
     "end_time": "2024-09-05T19:34:07.116586",
     "exception": false,
     "start_time": "2024-09-05T19:34:07.058522",
     "status": "completed"
    },
    "tags": []
   },
   "outputs": [
    {
     "name": "stdout",
     "output_type": "stream",
     "text": [
      "<class 'pandas.core.frame.DataFrame'>\n",
      "RangeIndex: 284807 entries, 0 to 284806\n",
      "Data columns (total 31 columns):\n",
      " #   Column  Non-Null Count   Dtype  \n",
      "---  ------  --------------   -----  \n",
      " 0   Time    284807 non-null  float64\n",
      " 1   V1      284807 non-null  float64\n",
      " 2   V2      284807 non-null  float64\n",
      " 3   V3      284807 non-null  float64\n",
      " 4   V4      284807 non-null  float64\n",
      " 5   V5      284807 non-null  float64\n",
      " 6   V6      284807 non-null  float64\n",
      " 7   V7      284807 non-null  float64\n",
      " 8   V8      284807 non-null  float64\n",
      " 9   V9      284807 non-null  float64\n",
      " 10  V10     284807 non-null  float64\n",
      " 11  V11     284807 non-null  float64\n",
      " 12  V12     284807 non-null  float64\n",
      " 13  V13     284807 non-null  float64\n",
      " 14  V14     284807 non-null  float64\n",
      " 15  V15     284807 non-null  float64\n",
      " 16  V16     284807 non-null  float64\n",
      " 17  V17     284807 non-null  float64\n",
      " 18  V18     284807 non-null  float64\n",
      " 19  V19     284807 non-null  float64\n",
      " 20  V20     284807 non-null  float64\n",
      " 21  V21     284807 non-null  float64\n",
      " 22  V22     284807 non-null  float64\n",
      " 23  V23     284807 non-null  float64\n",
      " 24  V24     284807 non-null  float64\n",
      " 25  V25     284807 non-null  float64\n",
      " 26  V26     284807 non-null  float64\n",
      " 27  V27     284807 non-null  float64\n",
      " 28  V28     284807 non-null  float64\n",
      " 29  Amount  284807 non-null  float64\n",
      " 30  Class   284807 non-null  int64  \n",
      "dtypes: float64(30), int64(1)\n",
      "memory usage: 67.4 MB\n"
     ]
    }
   ],
   "source": [
    "card.info()"
   ]
  },
  {
   "cell_type": "markdown",
   "id": "a4e54a44",
   "metadata": {
    "papermill": {
     "duration": 0.011403,
     "end_time": "2024-09-05T19:34:07.139601",
     "exception": false,
     "start_time": "2024-09-05T19:34:07.128198",
     "status": "completed"
    },
    "tags": []
   },
   "source": [
    "**DATA ANALYSIS**"
   ]
  },
  {
   "cell_type": "code",
   "execution_count": 9,
   "id": "1fa75d51",
   "metadata": {
    "execution": {
     "iopub.execute_input": "2024-09-05T19:34:07.164761Z",
     "iopub.status.busy": "2024-09-05T19:34:07.164343Z",
     "iopub.status.idle": "2024-09-05T19:34:07.178587Z",
     "shell.execute_reply": "2024-09-05T19:34:07.177328Z"
    },
    "papermill": {
     "duration": 0.030144,
     "end_time": "2024-09-05T19:34:07.181318",
     "exception": false,
     "start_time": "2024-09-05T19:34:07.151174",
     "status": "completed"
    },
    "tags": []
   },
   "outputs": [
    {
     "data": {
      "text/plain": [
       "Class\n",
       "0    284315\n",
       "1       492\n",
       "Name: count, dtype: int64"
      ]
     },
     "execution_count": 9,
     "metadata": {},
     "output_type": "execute_result"
    }
   ],
   "source": [
    "card['Class'].value_counts()"
   ]
  },
  {
   "cell_type": "markdown",
   "id": "1e196b6d",
   "metadata": {
    "papermill": {
     "duration": 0.011526,
     "end_time": "2024-09-05T19:34:07.205023",
     "exception": false,
     "start_time": "2024-09-05T19:34:07.193497",
     "status": "completed"
    },
    "tags": []
   },
   "source": [
    "492 trasactions are fraud\n",
    "\n",
    "284315 trasaction are normal"
   ]
  },
  {
   "cell_type": "code",
   "execution_count": 10,
   "id": "737fc2c9",
   "metadata": {
    "execution": {
     "iopub.execute_input": "2024-09-05T19:34:07.231448Z",
     "iopub.status.busy": "2024-09-05T19:34:07.230449Z",
     "iopub.status.idle": "2024-09-05T19:34:07.517308Z",
     "shell.execute_reply": "2024-09-05T19:34:07.516129Z"
    },
    "papermill": {
     "duration": 0.303012,
     "end_time": "2024-09-05T19:34:07.519894",
     "exception": false,
     "start_time": "2024-09-05T19:34:07.216882",
     "status": "completed"
    },
    "tags": []
   },
   "outputs": [
    {
     "data": {
      "text/plain": [
       "<Axes: xlabel='Class'>"
      ]
     },
     "execution_count": 10,
     "metadata": {},
     "output_type": "execute_result"
    },
    {
     "data": {
      "image/png": "[encoded data removed]",
      "text/plain": [
       "<Figure size 640x480 with 1 Axes>"
      ]
     },
     "metadata": {},
     "output_type": "display_data"
    }
   ],
   "source": [
    "card['Class'].value_counts().plot(kind='bar')"
   ]
  },
  {
   "cell_type": "code",
   "execution_count": 11,
   "id": "6a03ec96",
   "metadata": {
    "execution": {
     "iopub.execute_input": "2024-09-05T19:34:07.547044Z",
     "iopub.status.busy": "2024-09-05T19:34:07.546059Z",
     "iopub.status.idle": "2024-09-05T19:34:07.588892Z",
     "shell.execute_reply": "2024-09-05T19:34:07.587812Z"
    },
    "papermill": {
     "duration": 0.060222,
     "end_time": "2024-09-05T19:34:07.592642",
     "exception": false,
     "start_time": "2024-09-05T19:34:07.532420",
     "status": "completed"
    },
    "tags": []
   },
   "outputs": [],
   "source": [
    "fraud = card[card.Class == 1]\n",
    "normal = card[card.Class == 0]"
   ]
  },
  {
   "cell_type": "code",
   "execution_count": 12,
   "id": "6baa2484",
   "metadata": {
    "execution": {
     "iopub.execute_input": "2024-09-05T19:34:07.619702Z",
     "iopub.status.busy": "2024-09-05T19:34:07.619249Z",
     "iopub.status.idle": "2024-09-05T19:34:07.763574Z",
     "shell.execute_reply": "2024-09-05T19:34:07.762451Z"
    },
    "papermill": {
     "duration": 0.160722,
     "end_time": "2024-09-05T19:34:07.766271",
     "exception": false,
     "start_time": "2024-09-05T19:34:07.605549",
     "status": "completed"
    },
    "tags": []
   },
   "outputs": [
    {
     "data": {
      "text/html": [
       "<div>\n",
       "<style scoped>\n",
       "    .dataframe tbody tr th:only-of-type {\n",
       "        vertical-align: middle;\n",
       "    }\n",
       "\n",
       "    .dataframe tbody tr th {\n",
       "        vertical-align: top;\n",
       "    }\n",
       "\n",
       "    .dataframe thead th {\n",
       "        text-align: right;\n",
       "    }\n",
       "</style>\n",
       "<table border=\"1\" class=\"dataframe\">\n",
       "  <thead>\n",
       "    <tr style=\"text-align: right;\">\n",
       "      <th></th>\n",
       "      <th>Time</th>\n",
       "      <th>V1</th>\n",
       "      <th>V2</th>\n",
       "      <th>V3</th>\n",
       "      <th>V4</th>\n",
       "      <th>V5</th>\n",
       "      <th>V6</th>\n",
       "      <th>V7</th>\n",
       "      <th>V8</th>\n",
       "      <th>V9</th>\n",
       "      <th>...</th>\n",
       "      <th>V20</th>\n",
       "      <th>V21</th>\n",
       "      <th>V22</th>\n",
       "      <th>V23</th>\n",
       "      <th>V24</th>\n",
       "      <th>V25</th>\n",
       "      <th>V26</th>\n",
       "      <th>V27</th>\n",
       "      <th>V28</th>\n",
       "      <th>Amount</th>\n",
       "    </tr>\n",
       "    <tr>\n",
       "      <th>Class</th>\n",
       "      <th></th>\n",
       "      <th></th>\n",
       "      <th></th>\n",
       "      <th></th>\n",
       "      <th></th>\n",
       "      <th></th>\n",
       "      <th></th>\n",
       "      <th></th>\n",
       "      <th></th>\n",
       "      <th></th>\n",
       "      <th></th>\n",
       "      <th></th>\n",
       "      <th></th>\n",
       "      <th></th>\n",
       "      <th></th>\n",
       "      <th></th>\n",
       "      <th></th>\n",
       "      <th></th>\n",
       "      <th></th>\n",
       "      <th></th>\n",
       "      <th></th>\n",
       "    </tr>\n",
       "  </thead>\n",
       "  <tbody>\n",
       "    <tr>\n",
       "      <th>0</th>\n",
       "      <td>94838.202258</td>\n",
       "      <td>0.008258</td>\n",
       "      <td>-0.006271</td>\n",
       "      <td>0.012171</td>\n",
       "      <td>-0.007860</td>\n",
       "      <td>0.005453</td>\n",
       "      <td>0.002419</td>\n",
       "      <td>0.009637</td>\n",
       "      <td>-0.000987</td>\n",
       "      <td>0.004467</td>\n",
       "      <td>...</td>\n",
       "      <td>-0.000644</td>\n",
       "      <td>-0.001235</td>\n",
       "      <td>-0.000024</td>\n",
       "      <td>0.000070</td>\n",
       "      <td>0.000182</td>\n",
       "      <td>-0.000072</td>\n",
       "      <td>-0.000089</td>\n",
       "      <td>-0.000295</td>\n",
       "      <td>-0.000131</td>\n",
       "      <td>88.291022</td>\n",
       "    </tr>\n",
       "    <tr>\n",
       "      <th>1</th>\n",
       "      <td>80746.806911</td>\n",
       "      <td>-4.771948</td>\n",
       "      <td>3.623778</td>\n",
       "      <td>-7.033281</td>\n",
       "      <td>4.542029</td>\n",
       "      <td>-3.151225</td>\n",
       "      <td>-1.397737</td>\n",
       "      <td>-5.568731</td>\n",
       "      <td>0.570636</td>\n",
       "      <td>-2.581123</td>\n",
       "      <td>...</td>\n",
       "      <td>0.372319</td>\n",
       "      <td>0.713588</td>\n",
       "      <td>0.014049</td>\n",
       "      <td>-0.040308</td>\n",
       "      <td>-0.105130</td>\n",
       "      <td>0.041449</td>\n",
       "      <td>0.051648</td>\n",
       "      <td>0.170575</td>\n",
       "      <td>0.075667</td>\n",
       "      <td>122.211321</td>\n",
       "    </tr>\n",
       "  </tbody>\n",
       "</table>\n",
       "<p>2 rows × 30 columns</p>\n",
       "</div>"
      ],
      "text/plain": [
       "               Time        V1        V2        V3        V4        V5  \\\n",
       "Class                                                                   \n",
       "0      94838.202258  0.008258 -0.006271  0.012171 -0.007860  0.005453   \n",
       "1      80746.806911 -4.771948  3.623778 -7.033281  4.542029 -3.151225   \n",
       "\n",
       "             V6        V7        V8        V9  ...       V20       V21  \\\n",
       "Class                                          ...                       \n",
       "0      0.002419  0.009637 -0.000987  0.004467  ... -0.000644 -0.001235   \n",
       "1     -1.397737 -5.568731  0.570636 -2.581123  ...  0.372319  0.713588   \n",
       "\n",
       "            V22       V23       V24       V25       V26       V27       V28  \\\n",
       "Class                                                                         \n",
       "0     -0.000024  0.000070  0.000182 -0.000072 -0.000089 -0.000295 -0.000131   \n",
       "1      0.014049 -0.040308 -0.105130  0.041449  0.051648  0.170575  0.075667   \n",
       "\n",
       "           Amount  \n",
       "Class              \n",
       "0       88.291022  \n",
       "1      122.211321  \n",
       "\n",
       "[2 rows x 30 columns]"
      ]
     },
     "execution_count": 12,
     "metadata": {},
     "output_type": "execute_result"
    }
   ],
   "source": [
    "card.groupby('Class').mean()"
   ]
  },
  {
   "cell_type": "code",
   "execution_count": 13,
   "id": "1049a169",
   "metadata": {
    "execution": {
     "iopub.execute_input": "2024-09-05T19:34:07.793639Z",
     "iopub.status.busy": "2024-09-05T19:34:07.793185Z",
     "iopub.status.idle": "2024-09-05T19:34:07.805956Z",
     "shell.execute_reply": "2024-09-05T19:34:07.804793Z"
    },
    "papermill": {
     "duration": 0.029735,
     "end_time": "2024-09-05T19:34:07.808702",
     "exception": false,
     "start_time": "2024-09-05T19:34:07.778967",
     "status": "completed"
    },
    "tags": []
   },
   "outputs": [
    {
     "data": {
      "text/plain": [
       "count     492.000000\n",
       "mean      122.211321\n",
       "std       256.683288\n",
       "min         0.000000\n",
       "25%         1.000000\n",
       "50%         9.250000\n",
       "75%       105.890000\n",
       "max      2125.870000\n",
       "Name: Amount, dtype: float64"
      ]
     },
     "execution_count": 13,
     "metadata": {},
     "output_type": "execute_result"
    }
   ],
   "source": [
    "fraud.Amount.describe()"
   ]
  },
  {
   "cell_type": "code",
   "execution_count": 14,
   "id": "b311b0dc",
   "metadata": {
    "execution": {
     "iopub.execute_input": "2024-09-05T19:34:07.836327Z",
     "iopub.status.busy": "2024-09-05T19:34:07.835861Z",
     "iopub.status.idle": "2024-09-05T19:34:07.859286Z",
     "shell.execute_reply": "2024-09-05T19:34:07.858154Z"
    },
    "papermill": {
     "duration": 0.040489,
     "end_time": "2024-09-05T19:34:07.862060",
     "exception": false,
     "start_time": "2024-09-05T19:34:07.821571",
     "status": "completed"
    },
    "tags": []
   },
   "outputs": [
    {
     "data": {
      "text/plain": [
       "count    284315.000000\n",
       "mean         88.291022\n",
       "std         250.105092\n",
       "min           0.000000\n",
       "25%           5.650000\n",
       "50%          22.000000\n",
       "75%          77.050000\n",
       "max       25691.160000\n",
       "Name: Amount, dtype: float64"
      ]
     },
     "execution_count": 14,
     "metadata": {},
     "output_type": "execute_result"
    }
   ],
   "source": [
    "normal.Amount.describe()"
   ]
  },
  {
   "cell_type": "markdown",
   "id": "46209197",
   "metadata": {
    "papermill": {
     "duration": 0.01248,
     "end_time": "2024-09-05T19:34:07.887992",
     "exception": false,
     "start_time": "2024-09-05T19:34:07.875512",
     "status": "completed"
    },
    "tags": []
   },
   "source": [
    "UNDER-SAMPLING"
   ]
  },
  {
   "cell_type": "code",
   "execution_count": 15,
   "id": "a6d9a3b1",
   "metadata": {
    "execution": {
     "iopub.execute_input": "2024-09-05T19:34:07.915930Z",
     "iopub.status.busy": "2024-09-05T19:34:07.915475Z",
     "iopub.status.idle": "2024-09-05T19:34:07.930918Z",
     "shell.execute_reply": "2024-09-05T19:34:07.929660Z"
    },
    "papermill": {
     "duration": 0.032608,
     "end_time": "2024-09-05T19:34:07.933684",
     "exception": false,
     "start_time": "2024-09-05T19:34:07.901076",
     "status": "completed"
    },
    "tags": []
   },
   "outputs": [],
   "source": [
    "normal_sample = normal.sample(n=492)"
   ]
  },
  {
   "cell_type": "code",
   "execution_count": 16,
   "id": "8bba0a54",
   "metadata": {
    "execution": {
     "iopub.execute_input": "2024-09-05T19:34:07.961582Z",
     "iopub.status.busy": "2024-09-05T19:34:07.961166Z",
     "iopub.status.idle": "2024-09-05T19:34:07.968082Z",
     "shell.execute_reply": "2024-09-05T19:34:07.966922Z"
    },
    "papermill": {
     "duration": 0.023932,
     "end_time": "2024-09-05T19:34:07.970563",
     "exception": false,
     "start_time": "2024-09-05T19:34:07.946631",
     "status": "completed"
    },
    "tags": []
   },
   "outputs": [],
   "source": [
    "new_data = pd.concat([normal_sample , fraud] , axis = 0)"
   ]
  },
  {
   "cell_type": "code",
   "execution_count": 17,
   "id": "754e0cf5",
   "metadata": {
    "execution": {
     "iopub.execute_input": "2024-09-05T19:34:07.999571Z",
     "iopub.status.busy": "2024-09-05T19:34:07.999090Z",
     "iopub.status.idle": "2024-09-05T19:34:08.031863Z",
     "shell.execute_reply": "2024-09-05T19:34:08.030740Z"
    },
    "papermill": {
     "duration": 0.050062,
     "end_time": "2024-09-05T19:34:08.034614",
     "exception": false,
     "start_time": "2024-09-05T19:34:07.984552",
     "status": "completed"
    },
    "tags": []
   },
   "outputs": [
    {
     "data": {
      "text/html": [
       "<div>\n",
       "<style scoped>\n",
       "    .dataframe tbody tr th:only-of-type {\n",
       "        vertical-align: middle;\n",
       "    }\n",
       "\n",
       "    .dataframe tbody tr th {\n",
       "        vertical-align: top;\n",
       "    }\n",
       "\n",
       "    .dataframe thead th {\n",
       "        text-align: right;\n",
       "    }\n",
       "</style>\n",
       "<table border=\"1\" class=\"dataframe\">\n",
       "  <thead>\n",
       "    <tr style=\"text-align: right;\">\n",
       "      <th></th>\n",
       "      <th>Time</th>\n",
       "      <th>V1</th>\n",
       "      <th>V2</th>\n",
       "      <th>V3</th>\n",
       "      <th>V4</th>\n",
       "      <th>V5</th>\n",
       "      <th>V6</th>\n",
       "      <th>V7</th>\n",
       "      <th>V8</th>\n",
       "      <th>V9</th>\n",
       "      <th>...</th>\n",
       "      <th>V21</th>\n",
       "      <th>V22</th>\n",
       "      <th>V23</th>\n",
       "      <th>V24</th>\n",
       "      <th>V25</th>\n",
       "      <th>V26</th>\n",
       "      <th>V27</th>\n",
       "      <th>V28</th>\n",
       "      <th>Amount</th>\n",
       "      <th>Class</th>\n",
       "    </tr>\n",
       "  </thead>\n",
       "  <tbody>\n",
       "    <tr>\n",
       "      <th>196616</th>\n",
       "      <td>131599.0</td>\n",
       "      <td>2.080909</td>\n",
       "      <td>0.222364</td>\n",
       "      <td>-1.706462</td>\n",
       "      <td>0.396040</td>\n",
       "      <td>0.519528</td>\n",
       "      <td>-0.830321</td>\n",
       "      <td>0.242253</td>\n",
       "      <td>-0.282234</td>\n",
       "      <td>0.366433</td>\n",
       "      <td>...</td>\n",
       "      <td>-0.358632</td>\n",
       "      <td>-0.883059</td>\n",
       "      <td>0.323475</td>\n",
       "      <td>0.505670</td>\n",
       "      <td>-0.221353</td>\n",
       "      <td>0.172143</td>\n",
       "      <td>-0.056952</td>\n",
       "      <td>-0.029265</td>\n",
       "      <td>0.99</td>\n",
       "      <td>0</td>\n",
       "    </tr>\n",
       "    <tr>\n",
       "      <th>235228</th>\n",
       "      <td>148306.0</td>\n",
       "      <td>-0.125896</td>\n",
       "      <td>-0.631172</td>\n",
       "      <td>0.548633</td>\n",
       "      <td>-2.922024</td>\n",
       "      <td>-0.316800</td>\n",
       "      <td>0.507521</td>\n",
       "      <td>0.090779</td>\n",
       "      <td>-0.019968</td>\n",
       "      <td>-2.396459</td>\n",
       "      <td>...</td>\n",
       "      <td>-0.050871</td>\n",
       "      <td>0.179568</td>\n",
       "      <td>-0.109215</td>\n",
       "      <td>-1.384951</td>\n",
       "      <td>-0.106358</td>\n",
       "      <td>-0.147953</td>\n",
       "      <td>0.134403</td>\n",
       "      <td>0.139787</td>\n",
       "      <td>103.54</td>\n",
       "      <td>0</td>\n",
       "    </tr>\n",
       "    <tr>\n",
       "      <th>230915</th>\n",
       "      <td>146533.0</td>\n",
       "      <td>-0.946542</td>\n",
       "      <td>0.923455</td>\n",
       "      <td>1.060844</td>\n",
       "      <td>-0.633944</td>\n",
       "      <td>0.041249</td>\n",
       "      <td>0.011042</td>\n",
       "      <td>0.076367</td>\n",
       "      <td>0.604877</td>\n",
       "      <td>-0.001607</td>\n",
       "      <td>...</td>\n",
       "      <td>-0.160481</td>\n",
       "      <td>-0.541310</td>\n",
       "      <td>0.025804</td>\n",
       "      <td>0.452580</td>\n",
       "      <td>-0.257374</td>\n",
       "      <td>0.000929</td>\n",
       "      <td>0.210513</td>\n",
       "      <td>0.122081</td>\n",
       "      <td>19.99</td>\n",
       "      <td>0</td>\n",
       "    </tr>\n",
       "    <tr>\n",
       "      <th>202816</th>\n",
       "      <td>134503.0</td>\n",
       "      <td>0.113607</td>\n",
       "      <td>0.719494</td>\n",
       "      <td>-1.683943</td>\n",
       "      <td>-1.549158</td>\n",
       "      <td>3.118795</td>\n",
       "      <td>3.216437</td>\n",
       "      <td>0.368700</td>\n",
       "      <td>0.919212</td>\n",
       "      <td>-0.162020</td>\n",
       "      <td>...</td>\n",
       "      <td>-0.333710</td>\n",
       "      <td>-0.906415</td>\n",
       "      <td>0.116793</td>\n",
       "      <td>0.592631</td>\n",
       "      <td>-0.422825</td>\n",
       "      <td>0.164086</td>\n",
       "      <td>0.244631</td>\n",
       "      <td>0.071290</td>\n",
       "      <td>4.48</td>\n",
       "      <td>0</td>\n",
       "    </tr>\n",
       "    <tr>\n",
       "      <th>53487</th>\n",
       "      <td>46007.0</td>\n",
       "      <td>-0.364058</td>\n",
       "      <td>0.991049</td>\n",
       "      <td>1.148931</td>\n",
       "      <td>-0.120654</td>\n",
       "      <td>0.141995</td>\n",
       "      <td>-0.485646</td>\n",
       "      <td>0.544478</td>\n",
       "      <td>0.153601</td>\n",
       "      <td>-0.474097</td>\n",
       "      <td>...</td>\n",
       "      <td>-0.244511</td>\n",
       "      <td>-0.724372</td>\n",
       "      <td>-0.049029</td>\n",
       "      <td>-0.082796</td>\n",
       "      <td>-0.180677</td>\n",
       "      <td>0.078531</td>\n",
       "      <td>0.233522</td>\n",
       "      <td>0.082629</td>\n",
       "      <td>6.45</td>\n",
       "      <td>0</td>\n",
       "    </tr>\n",
       "  </tbody>\n",
       "</table>\n",
       "<p>5 rows × 31 columns</p>\n",
       "</div>"
      ],
      "text/plain": [
       "            Time        V1        V2        V3        V4        V5        V6  \\\n",
       "196616  131599.0  2.080909  0.222364 -1.706462  0.396040  0.519528 -0.830321   \n",
       "235228  148306.0 -0.125896 -0.631172  0.548633 -2.922024 -0.316800  0.507521   \n",
       "230915  146533.0 -0.946542  0.923455  1.060844 -0.633944  0.041249  0.011042   \n",
       "202816  134503.0  0.113607  0.719494 -1.683943 -1.549158  3.118795  3.216437   \n",
       "53487    46007.0 -0.364058  0.991049  1.148931 -0.120654  0.141995 -0.485646   \n",
       "\n",
       "              V7        V8        V9  ...       V21       V22       V23  \\\n",
       "196616  0.242253 -0.282234  0.366433  ... -0.358632 -0.883059  0.323475   \n",
       "235228  0.090779 -0.019968 -2.396459  ... -0.050871  0.179568 -0.109215   \n",
       "230915  0.076367  0.604877 -0.001607  ... -0.160481 -0.541310  0.025804   \n",
       "202816  0.368700  0.919212 -0.162020  ... -0.333710 -0.906415  0.116793   \n",
       "53487   0.544478  0.153601 -0.474097  ... -0.244511 -0.724372 -0.049029   \n",
       "\n",
       "             V24       V25       V26       V27       V28  Amount  Class  \n",
       "196616  0.505670 -0.221353  0.172143 -0.056952 -0.029265    0.99      0  \n",
       "235228 -1.384951 -0.106358 -0.147953  0.134403  0.139787  103.54      0  \n",
       "230915  0.452580 -0.257374  0.000929  0.210513  0.122081   19.99      0  \n",
       "202816  0.592631 -0.422825  0.164086  0.244631  0.071290    4.48      0  \n",
       "53487  -0.082796 -0.180677  0.078531  0.233522  0.082629    6.45      0  \n",
       "\n",
       "[5 rows x 31 columns]"
      ]
     },
     "execution_count": 17,
     "metadata": {},
     "output_type": "execute_result"
    }
   ],
   "source": [
    "new_data.head()"
   ]
  },
  {
   "cell_type": "code",
   "execution_count": 18,
   "id": "30ec4e98",
   "metadata": {
    "execution": {
     "iopub.execute_input": "2024-09-05T19:34:08.063758Z",
     "iopub.status.busy": "2024-09-05T19:34:08.063303Z",
     "iopub.status.idle": "2024-09-05T19:34:08.072883Z",
     "shell.execute_reply": "2024-09-05T19:34:08.071605Z"
    },
    "papermill": {
     "duration": 0.027077,
     "end_time": "2024-09-05T19:34:08.075598",
     "exception": false,
     "start_time": "2024-09-05T19:34:08.048521",
     "status": "completed"
    },
    "tags": []
   },
   "outputs": [
    {
     "data": {
      "text/plain": [
       "Class\n",
       "0    492\n",
       "1    492\n",
       "Name: count, dtype: int64"
      ]
     },
     "execution_count": 18,
     "metadata": {},
     "output_type": "execute_result"
    }
   ],
   "source": [
    "new_data['Class'].value_counts()"
   ]
  },
  {
   "cell_type": "code",
   "execution_count": 19,
   "id": "833e75d1",
   "metadata": {
    "execution": {
     "iopub.execute_input": "2024-09-05T19:34:08.105920Z",
     "iopub.status.busy": "2024-09-05T19:34:08.105497Z",
     "iopub.status.idle": "2024-09-05T19:34:08.133340Z",
     "shell.execute_reply": "2024-09-05T19:34:08.132072Z"
    },
    "papermill": {
     "duration": 0.046544,
     "end_time": "2024-09-05T19:34:08.136113",
     "exception": false,
     "start_time": "2024-09-05T19:34:08.089569",
     "status": "completed"
    },
    "tags": []
   },
   "outputs": [
    {
     "data": {
      "text/html": [
       "<div>\n",
       "<style scoped>\n",
       "    .dataframe tbody tr th:only-of-type {\n",
       "        vertical-align: middle;\n",
       "    }\n",
       "\n",
       "    .dataframe tbody tr th {\n",
       "        vertical-align: top;\n",
       "    }\n",
       "\n",
       "    .dataframe thead th {\n",
       "        text-align: right;\n",
       "    }\n",
       "</style>\n",
       "<table border=\"1\" class=\"dataframe\">\n",
       "  <thead>\n",
       "    <tr style=\"text-align: right;\">\n",
       "      <th></th>\n",
       "      <th>Time</th>\n",
       "      <th>V1</th>\n",
       "      <th>V2</th>\n",
       "      <th>V3</th>\n",
       "      <th>V4</th>\n",
       "      <th>V5</th>\n",
       "      <th>V6</th>\n",
       "      <th>V7</th>\n",
       "      <th>V8</th>\n",
       "      <th>V9</th>\n",
       "      <th>...</th>\n",
       "      <th>V20</th>\n",
       "      <th>V21</th>\n",
       "      <th>V22</th>\n",
       "      <th>V23</th>\n",
       "      <th>V24</th>\n",
       "      <th>V25</th>\n",
       "      <th>V26</th>\n",
       "      <th>V27</th>\n",
       "      <th>V28</th>\n",
       "      <th>Amount</th>\n",
       "    </tr>\n",
       "    <tr>\n",
       "      <th>Class</th>\n",
       "      <th></th>\n",
       "      <th></th>\n",
       "      <th></th>\n",
       "      <th></th>\n",
       "      <th></th>\n",
       "      <th></th>\n",
       "      <th></th>\n",
       "      <th></th>\n",
       "      <th></th>\n",
       "      <th></th>\n",
       "      <th></th>\n",
       "      <th></th>\n",
       "      <th></th>\n",
       "      <th></th>\n",
       "      <th></th>\n",
       "      <th></th>\n",
       "      <th></th>\n",
       "      <th></th>\n",
       "      <th></th>\n",
       "      <th></th>\n",
       "      <th></th>\n",
       "    </tr>\n",
       "  </thead>\n",
       "  <tbody>\n",
       "    <tr>\n",
       "      <th>0</th>\n",
       "      <td>98408.150407</td>\n",
       "      <td>-0.008839</td>\n",
       "      <td>0.139074</td>\n",
       "      <td>-0.131918</td>\n",
       "      <td>-0.001061</td>\n",
       "      <td>0.042268</td>\n",
       "      <td>-0.113970</td>\n",
       "      <td>0.104166</td>\n",
       "      <td>0.036583</td>\n",
       "      <td>0.039217</td>\n",
       "      <td>...</td>\n",
       "      <td>-0.011456</td>\n",
       "      <td>0.007798</td>\n",
       "      <td>0.075997</td>\n",
       "      <td>-0.002962</td>\n",
       "      <td>-0.020471</td>\n",
       "      <td>0.024513</td>\n",
       "      <td>-0.002131</td>\n",
       "      <td>0.012894</td>\n",
       "      <td>-0.002678</td>\n",
       "      <td>83.702744</td>\n",
       "    </tr>\n",
       "    <tr>\n",
       "      <th>1</th>\n",
       "      <td>80746.806911</td>\n",
       "      <td>-4.771948</td>\n",
       "      <td>3.623778</td>\n",
       "      <td>-7.033281</td>\n",
       "      <td>4.542029</td>\n",
       "      <td>-3.151225</td>\n",
       "      <td>-1.397737</td>\n",
       "      <td>-5.568731</td>\n",
       "      <td>0.570636</td>\n",
       "      <td>-2.581123</td>\n",
       "      <td>...</td>\n",
       "      <td>0.372319</td>\n",
       "      <td>0.713588</td>\n",
       "      <td>0.014049</td>\n",
       "      <td>-0.040308</td>\n",
       "      <td>-0.105130</td>\n",
       "      <td>0.041449</td>\n",
       "      <td>0.051648</td>\n",
       "      <td>0.170575</td>\n",
       "      <td>0.075667</td>\n",
       "      <td>122.211321</td>\n",
       "    </tr>\n",
       "  </tbody>\n",
       "</table>\n",
       "<p>2 rows × 30 columns</p>\n",
       "</div>"
      ],
      "text/plain": [
       "               Time        V1        V2        V3        V4        V5  \\\n",
       "Class                                                                   \n",
       "0      98408.150407 -0.008839  0.139074 -0.131918 -0.001061  0.042268   \n",
       "1      80746.806911 -4.771948  3.623778 -7.033281  4.542029 -3.151225   \n",
       "\n",
       "             V6        V7        V8        V9  ...       V20       V21  \\\n",
       "Class                                          ...                       \n",
       "0     -0.113970  0.104166  0.036583  0.039217  ... -0.011456  0.007798   \n",
       "1     -1.397737 -5.568731  0.570636 -2.581123  ...  0.372319  0.713588   \n",
       "\n",
       "            V22       V23       V24       V25       V26       V27       V28  \\\n",
       "Class                                                                         \n",
       "0      0.075997 -0.002962 -0.020471  0.024513 -0.002131  0.012894 -0.002678   \n",
       "1      0.014049 -0.040308 -0.105130  0.041449  0.051648  0.170575  0.075667   \n",
       "\n",
       "           Amount  \n",
       "Class              \n",
       "0       83.702744  \n",
       "1      122.211321  \n",
       "\n",
       "[2 rows x 30 columns]"
      ]
     },
     "execution_count": 19,
     "metadata": {},
     "output_type": "execute_result"
    }
   ],
   "source": [
    "new_data.groupby('Class').mean()"
   ]
  },
  {
   "cell_type": "markdown",
   "id": "729bd22f",
   "metadata": {
    "papermill": {
     "duration": 0.013581,
     "end_time": "2024-09-05T19:34:08.163638",
     "exception": false,
     "start_time": "2024-09-05T19:34:08.150057",
     "status": "completed"
    },
    "tags": []
   },
   "source": [
    "BUILDING MODEL"
   ]
  },
  {
   "cell_type": "code",
   "execution_count": 20,
   "id": "18d73fdf",
   "metadata": {
    "execution": {
     "iopub.execute_input": "2024-09-05T19:34:08.193812Z",
     "iopub.status.busy": "2024-09-05T19:34:08.193390Z",
     "iopub.status.idle": "2024-09-05T19:34:08.200416Z",
     "shell.execute_reply": "2024-09-05T19:34:08.199159Z"
    },
    "papermill": {
     "duration": 0.025348,
     "end_time": "2024-09-05T19:34:08.202928",
     "exception": false,
     "start_time": "2024-09-05T19:34:08.177580",
     "status": "completed"
    },
    "tags": []
   },
   "outputs": [],
   "source": [
    "x = new_data.drop(columns = 'Class' , axis = 1)\n",
    "y = new_data['Class']"
   ]
  },
  {
   "cell_type": "code",
   "execution_count": 21,
   "id": "c0342d4c",
   "metadata": {
    "execution": {
     "iopub.execute_input": "2024-09-05T19:34:08.233281Z",
     "iopub.status.busy": "2024-09-05T19:34:08.232836Z",
     "iopub.status.idle": "2024-09-05T19:34:08.267189Z",
     "shell.execute_reply": "2024-09-05T19:34:08.266069Z"
    },
    "papermill": {
     "duration": 0.052221,
     "end_time": "2024-09-05T19:34:08.269735",
     "exception": false,
     "start_time": "2024-09-05T19:34:08.217514",
     "status": "completed"
    },
    "tags": []
   },
   "outputs": [
    {
     "data": {
      "text/html": [
       "<div>\n",
       "<style scoped>\n",
       "    .dataframe tbody tr th:only-of-type {\n",
       "        vertical-align: middle;\n",
       "    }\n",
       "\n",
       "    .dataframe tbody tr th {\n",
       "        vertical-align: top;\n",
       "    }\n",
       "\n",
       "    .dataframe thead th {\n",
       "        text-align: right;\n",
       "    }\n",
       "</style>\n",
       "<table border=\"1\" class=\"dataframe\">\n",
       "  <thead>\n",
       "    <tr style=\"text-align: right;\">\n",
       "      <th></th>\n",
       "      <th>Time</th>\n",
       "      <th>V1</th>\n",
       "      <th>V2</th>\n",
       "      <th>V3</th>\n",
       "      <th>V4</th>\n",
       "      <th>V5</th>\n",
       "      <th>V6</th>\n",
       "      <th>V7</th>\n",
       "      <th>V8</th>\n",
       "      <th>V9</th>\n",
       "      <th>...</th>\n",
       "      <th>V20</th>\n",
       "      <th>V21</th>\n",
       "      <th>V22</th>\n",
       "      <th>V23</th>\n",
       "      <th>V24</th>\n",
       "      <th>V25</th>\n",
       "      <th>V26</th>\n",
       "      <th>V27</th>\n",
       "      <th>V28</th>\n",
       "      <th>Amount</th>\n",
       "    </tr>\n",
       "  </thead>\n",
       "  <tbody>\n",
       "    <tr>\n",
       "      <th>196616</th>\n",
       "      <td>131599.0</td>\n",
       "      <td>2.080909</td>\n",
       "      <td>0.222364</td>\n",
       "      <td>-1.706462</td>\n",
       "      <td>0.396040</td>\n",
       "      <td>0.519528</td>\n",
       "      <td>-0.830321</td>\n",
       "      <td>0.242253</td>\n",
       "      <td>-0.282234</td>\n",
       "      <td>0.366433</td>\n",
       "      <td>...</td>\n",
       "      <td>-0.100234</td>\n",
       "      <td>-0.358632</td>\n",
       "      <td>-0.883059</td>\n",
       "      <td>0.323475</td>\n",
       "      <td>0.505670</td>\n",
       "      <td>-0.221353</td>\n",
       "      <td>0.172143</td>\n",
       "      <td>-0.056952</td>\n",
       "      <td>-0.029265</td>\n",
       "      <td>0.99</td>\n",
       "    </tr>\n",
       "    <tr>\n",
       "      <th>235228</th>\n",
       "      <td>148306.0</td>\n",
       "      <td>-0.125896</td>\n",
       "      <td>-0.631172</td>\n",
       "      <td>0.548633</td>\n",
       "      <td>-2.922024</td>\n",
       "      <td>-0.316800</td>\n",
       "      <td>0.507521</td>\n",
       "      <td>0.090779</td>\n",
       "      <td>-0.019968</td>\n",
       "      <td>-2.396459</td>\n",
       "      <td>...</td>\n",
       "      <td>-0.031208</td>\n",
       "      <td>-0.050871</td>\n",
       "      <td>0.179568</td>\n",
       "      <td>-0.109215</td>\n",
       "      <td>-1.384951</td>\n",
       "      <td>-0.106358</td>\n",
       "      <td>-0.147953</td>\n",
       "      <td>0.134403</td>\n",
       "      <td>0.139787</td>\n",
       "      <td>103.54</td>\n",
       "    </tr>\n",
       "    <tr>\n",
       "      <th>230915</th>\n",
       "      <td>146533.0</td>\n",
       "      <td>-0.946542</td>\n",
       "      <td>0.923455</td>\n",
       "      <td>1.060844</td>\n",
       "      <td>-0.633944</td>\n",
       "      <td>0.041249</td>\n",
       "      <td>0.011042</td>\n",
       "      <td>0.076367</td>\n",
       "      <td>0.604877</td>\n",
       "      <td>-0.001607</td>\n",
       "      <td>...</td>\n",
       "      <td>0.044523</td>\n",
       "      <td>-0.160481</td>\n",
       "      <td>-0.541310</td>\n",
       "      <td>0.025804</td>\n",
       "      <td>0.452580</td>\n",
       "      <td>-0.257374</td>\n",
       "      <td>0.000929</td>\n",
       "      <td>0.210513</td>\n",
       "      <td>0.122081</td>\n",
       "      <td>19.99</td>\n",
       "    </tr>\n",
       "    <tr>\n",
       "      <th>202816</th>\n",
       "      <td>134503.0</td>\n",
       "      <td>0.113607</td>\n",
       "      <td>0.719494</td>\n",
       "      <td>-1.683943</td>\n",
       "      <td>-1.549158</td>\n",
       "      <td>3.118795</td>\n",
       "      <td>3.216437</td>\n",
       "      <td>0.368700</td>\n",
       "      <td>0.919212</td>\n",
       "      <td>-0.162020</td>\n",
       "      <td>...</td>\n",
       "      <td>0.051575</td>\n",
       "      <td>-0.333710</td>\n",
       "      <td>-0.906415</td>\n",
       "      <td>0.116793</td>\n",
       "      <td>0.592631</td>\n",
       "      <td>-0.422825</td>\n",
       "      <td>0.164086</td>\n",
       "      <td>0.244631</td>\n",
       "      <td>0.071290</td>\n",
       "      <td>4.48</td>\n",
       "    </tr>\n",
       "    <tr>\n",
       "      <th>53487</th>\n",
       "      <td>46007.0</td>\n",
       "      <td>-0.364058</td>\n",
       "      <td>0.991049</td>\n",
       "      <td>1.148931</td>\n",
       "      <td>-0.120654</td>\n",
       "      <td>0.141995</td>\n",
       "      <td>-0.485646</td>\n",
       "      <td>0.544478</td>\n",
       "      <td>0.153601</td>\n",
       "      <td>-0.474097</td>\n",
       "      <td>...</td>\n",
       "      <td>0.074259</td>\n",
       "      <td>-0.244511</td>\n",
       "      <td>-0.724372</td>\n",
       "      <td>-0.049029</td>\n",
       "      <td>-0.082796</td>\n",
       "      <td>-0.180677</td>\n",
       "      <td>0.078531</td>\n",
       "      <td>0.233522</td>\n",
       "      <td>0.082629</td>\n",
       "      <td>6.45</td>\n",
       "    </tr>\n",
       "    <tr>\n",
       "      <th>...</th>\n",
       "      <td>...</td>\n",
       "      <td>...</td>\n",
       "      <td>...</td>\n",
       "      <td>...</td>\n",
       "      <td>...</td>\n",
       "      <td>...</td>\n",
       "      <td>...</td>\n",
       "      <td>...</td>\n",
       "      <td>...</td>\n",
       "      <td>...</td>\n",
       "      <td>...</td>\n",
       "      <td>...</td>\n",
       "      <td>...</td>\n",
       "      <td>...</td>\n",
       "      <td>...</td>\n",
       "      <td>...</td>\n",
       "      <td>...</td>\n",
       "      <td>...</td>\n",
       "      <td>...</td>\n",
       "      <td>...</td>\n",
       "      <td>...</td>\n",
       "    </tr>\n",
       "    <tr>\n",
       "      <th>279863</th>\n",
       "      <td>169142.0</td>\n",
       "      <td>-1.927883</td>\n",
       "      <td>1.125653</td>\n",
       "      <td>-4.518331</td>\n",
       "      <td>1.749293</td>\n",
       "      <td>-1.566487</td>\n",
       "      <td>-2.010494</td>\n",
       "      <td>-0.882850</td>\n",
       "      <td>0.697211</td>\n",
       "      <td>-2.064945</td>\n",
       "      <td>...</td>\n",
       "      <td>1.252967</td>\n",
       "      <td>0.778584</td>\n",
       "      <td>-0.319189</td>\n",
       "      <td>0.639419</td>\n",
       "      <td>-0.294885</td>\n",
       "      <td>0.537503</td>\n",
       "      <td>0.788395</td>\n",
       "      <td>0.292680</td>\n",
       "      <td>0.147968</td>\n",
       "      <td>390.00</td>\n",
       "    </tr>\n",
       "    <tr>\n",
       "      <th>280143</th>\n",
       "      <td>169347.0</td>\n",
       "      <td>1.378559</td>\n",
       "      <td>1.289381</td>\n",
       "      <td>-5.004247</td>\n",
       "      <td>1.411850</td>\n",
       "      <td>0.442581</td>\n",
       "      <td>-1.326536</td>\n",
       "      <td>-1.413170</td>\n",
       "      <td>0.248525</td>\n",
       "      <td>-1.127396</td>\n",
       "      <td>...</td>\n",
       "      <td>0.226138</td>\n",
       "      <td>0.370612</td>\n",
       "      <td>0.028234</td>\n",
       "      <td>-0.145640</td>\n",
       "      <td>-0.081049</td>\n",
       "      <td>0.521875</td>\n",
       "      <td>0.739467</td>\n",
       "      <td>0.389152</td>\n",
       "      <td>0.186637</td>\n",
       "      <td>0.76</td>\n",
       "    </tr>\n",
       "    <tr>\n",
       "      <th>280149</th>\n",
       "      <td>169351.0</td>\n",
       "      <td>-0.676143</td>\n",
       "      <td>1.126366</td>\n",
       "      <td>-2.213700</td>\n",
       "      <td>0.468308</td>\n",
       "      <td>-1.120541</td>\n",
       "      <td>-0.003346</td>\n",
       "      <td>-2.234739</td>\n",
       "      <td>1.210158</td>\n",
       "      <td>-0.652250</td>\n",
       "      <td>...</td>\n",
       "      <td>0.247968</td>\n",
       "      <td>0.751826</td>\n",
       "      <td>0.834108</td>\n",
       "      <td>0.190944</td>\n",
       "      <td>0.032070</td>\n",
       "      <td>-0.739695</td>\n",
       "      <td>0.471111</td>\n",
       "      <td>0.385107</td>\n",
       "      <td>0.194361</td>\n",
       "      <td>77.89</td>\n",
       "    </tr>\n",
       "    <tr>\n",
       "      <th>281144</th>\n",
       "      <td>169966.0</td>\n",
       "      <td>-3.113832</td>\n",
       "      <td>0.585864</td>\n",
       "      <td>-5.399730</td>\n",
       "      <td>1.817092</td>\n",
       "      <td>-0.840618</td>\n",
       "      <td>-2.943548</td>\n",
       "      <td>-2.208002</td>\n",
       "      <td>1.058733</td>\n",
       "      <td>-1.632333</td>\n",
       "      <td>...</td>\n",
       "      <td>0.306271</td>\n",
       "      <td>0.583276</td>\n",
       "      <td>-0.269209</td>\n",
       "      <td>-0.456108</td>\n",
       "      <td>-0.183659</td>\n",
       "      <td>-0.328168</td>\n",
       "      <td>0.606116</td>\n",
       "      <td>0.884876</td>\n",
       "      <td>-0.253700</td>\n",
       "      <td>245.00</td>\n",
       "    </tr>\n",
       "    <tr>\n",
       "      <th>281674</th>\n",
       "      <td>170348.0</td>\n",
       "      <td>1.991976</td>\n",
       "      <td>0.158476</td>\n",
       "      <td>-2.583441</td>\n",
       "      <td>0.408670</td>\n",
       "      <td>1.151147</td>\n",
       "      <td>-0.096695</td>\n",
       "      <td>0.223050</td>\n",
       "      <td>-0.068384</td>\n",
       "      <td>0.577829</td>\n",
       "      <td>...</td>\n",
       "      <td>-0.017652</td>\n",
       "      <td>-0.164350</td>\n",
       "      <td>-0.295135</td>\n",
       "      <td>-0.072173</td>\n",
       "      <td>-0.450261</td>\n",
       "      <td>0.313267</td>\n",
       "      <td>-0.289617</td>\n",
       "      <td>0.002988</td>\n",
       "      <td>-0.015309</td>\n",
       "      <td>42.53</td>\n",
       "    </tr>\n",
       "  </tbody>\n",
       "</table>\n",
       "<p>984 rows × 30 columns</p>\n",
       "</div>"
      ],
      "text/plain": [
       "            Time        V1        V2        V3        V4        V5        V6  \\\n",
       "196616  131599.0  2.080909  0.222364 -1.706462  0.396040  0.519528 -0.830321   \n",
       "235228  148306.0 -0.125896 -0.631172  0.548633 -2.922024 -0.316800  0.507521   \n",
       "230915  146533.0 -0.946542  0.923455  1.060844 -0.633944  0.041249  0.011042   \n",
       "202816  134503.0  0.113607  0.719494 -1.683943 -1.549158  3.118795  3.216437   \n",
       "53487    46007.0 -0.364058  0.991049  1.148931 -0.120654  0.141995 -0.485646   \n",
       "...          ...       ...       ...       ...       ...       ...       ...   \n",
       "279863  169142.0 -1.927883  1.125653 -4.518331  1.749293 -1.566487 -2.010494   \n",
       "280143  169347.0  1.378559  1.289381 -5.004247  1.411850  0.442581 -1.326536   \n",
       "280149  169351.0 -0.676143  1.126366 -2.213700  0.468308 -1.120541 -0.003346   \n",
       "281144  169966.0 -3.113832  0.585864 -5.399730  1.817092 -0.840618 -2.943548   \n",
       "281674  170348.0  1.991976  0.158476 -2.583441  0.408670  1.151147 -0.096695   \n",
       "\n",
       "              V7        V8        V9  ...       V20       V21       V22  \\\n",
       "196616  0.242253 -0.282234  0.366433  ... -0.100234 -0.358632 -0.883059   \n",
       "235228  0.090779 -0.019968 -2.396459  ... -0.031208 -0.050871  0.179568   \n",
       "230915  0.076367  0.604877 -0.001607  ...  0.044523 -0.160481 -0.541310   \n",
       "202816  0.368700  0.919212 -0.162020  ...  0.051575 -0.333710 -0.906415   \n",
       "53487   0.544478  0.153601 -0.474097  ...  0.074259 -0.244511 -0.724372   \n",
       "...          ...       ...       ...  ...       ...       ...       ...   \n",
       "279863 -0.882850  0.697211 -2.064945  ...  1.252967  0.778584 -0.319189   \n",
       "280143 -1.413170  0.248525 -1.127396  ...  0.226138  0.370612  0.028234   \n",
       "280149 -2.234739  1.210158 -0.652250  ...  0.247968  0.751826  0.834108   \n",
       "281144 -2.208002  1.058733 -1.632333  ...  0.306271  0.583276 -0.269209   \n",
       "281674  0.223050 -0.068384  0.577829  ... -0.017652 -0.164350 -0.295135   \n",
       "\n",
       "             V23       V24       V25       V26       V27       V28  Amount  \n",
       "196616  0.323475  0.505670 -0.221353  0.172143 -0.056952 -0.029265    0.99  \n",
       "235228 -0.109215 -1.384951 -0.106358 -0.147953  0.134403  0.139787  103.54  \n",
       "230915  0.025804  0.452580 -0.257374  0.000929  0.210513  0.122081   19.99  \n",
       "202816  0.116793  0.592631 -0.422825  0.164086  0.244631  0.071290    4.48  \n",
       "53487  -0.049029 -0.082796 -0.180677  0.078531  0.233522  0.082629    6.45  \n",
       "...          ...       ...       ...       ...       ...       ...     ...  \n",
       "279863  0.639419 -0.294885  0.537503  0.788395  0.292680  0.147968  390.00  \n",
       "280143 -0.145640 -0.081049  0.521875  0.739467  0.389152  0.186637    0.76  \n",
       "280149  0.190944  0.032070 -0.739695  0.471111  0.385107  0.194361   77.89  \n",
       "281144 -0.456108 -0.183659 -0.328168  0.606116  0.884876 -0.253700  245.00  \n",
       "281674 -0.072173 -0.450261  0.313267 -0.289617  0.002988 -0.015309   42.53  \n",
       "\n",
       "[984 rows x 30 columns]"
      ]
     },
     "execution_count": 21,
     "metadata": {},
     "output_type": "execute_result"
    }
   ],
   "source": [
    "x"
   ]
  },
  {
   "cell_type": "code",
   "execution_count": 22,
   "id": "061cad4d",
   "metadata": {
    "execution": {
     "iopub.execute_input": "2024-09-05T19:34:08.301158Z",
     "iopub.status.busy": "2024-09-05T19:34:08.300725Z",
     "iopub.status.idle": "2024-09-05T19:34:08.309864Z",
     "shell.execute_reply": "2024-09-05T19:34:08.308711Z"
    },
    "papermill": {
     "duration": 0.027941,
     "end_time": "2024-09-05T19:34:08.312284",
     "exception": false,
     "start_time": "2024-09-05T19:34:08.284343",
     "status": "completed"
    },
    "tags": []
   },
   "outputs": [
    {
     "data": {
      "text/plain": [
       "196616    0\n",
       "235228    0\n",
       "230915    0\n",
       "202816    0\n",
       "53487     0\n",
       "         ..\n",
       "279863    1\n",
       "280143    1\n",
       "280149    1\n",
       "281144    1\n",
       "281674    1\n",
       "Name: Class, Length: 984, dtype: int64"
      ]
     },
     "execution_count": 22,
     "metadata": {},
     "output_type": "execute_result"
    }
   ],
   "source": [
    "y"
   ]
  },
  {
   "cell_type": "code",
   "execution_count": 23,
   "id": "bbc70fb0",
   "metadata": {
    "execution": {
     "iopub.execute_input": "2024-09-05T19:34:08.344094Z",
     "iopub.status.busy": "2024-09-05T19:34:08.343082Z",
     "iopub.status.idle": "2024-09-05T19:34:08.352096Z",
     "shell.execute_reply": "2024-09-05T19:34:08.350950Z"
    },
    "papermill": {
     "duration": 0.027801,
     "end_time": "2024-09-05T19:34:08.354774",
     "exception": false,
     "start_time": "2024-09-05T19:34:08.326973",
     "status": "completed"
    },
    "tags": []
   },
   "outputs": [],
   "source": [
    "x_train ,  x_test , y_train , y_test = train_test_split(x,y , test_size = 0.2 , random_state=11)"
   ]
  },
  {
   "cell_type": "code",
   "execution_count": 24,
   "id": "47ec9c0c",
   "metadata": {
    "execution": {
     "iopub.execute_input": "2024-09-05T19:34:08.385761Z",
     "iopub.status.busy": "2024-09-05T19:34:08.385347Z",
     "iopub.status.idle": "2024-09-05T19:34:08.390924Z",
     "shell.execute_reply": "2024-09-05T19:34:08.389574Z"
    },
    "papermill": {
     "duration": 0.024264,
     "end_time": "2024-09-05T19:34:08.393719",
     "exception": false,
     "start_time": "2024-09-05T19:34:08.369455",
     "status": "completed"
    },
    "tags": []
   },
   "outputs": [],
   "source": [
    "from sklearn.linear_model import LinearRegression\n",
    "\n",
    "model = LogisticRegression()"
   ]
  },
  {
   "cell_type": "code",
   "execution_count": 25,
   "id": "12ddc730",
   "metadata": {
    "execution": {
     "iopub.execute_input": "2024-09-05T19:34:08.424995Z",
     "iopub.status.busy": "2024-09-05T19:34:08.424576Z",
     "iopub.status.idle": "2024-09-05T19:34:08.472737Z",
     "shell.execute_reply": "2024-09-05T19:34:08.471128Z"
    },
    "papermill": {
     "duration": 0.068463,
     "end_time": "2024-09-05T19:34:08.476871",
     "exception": false,
     "start_time": "2024-09-05T19:34:08.408408",
     "status": "completed"
    },
    "tags": []
   },
   "outputs": [
    {
     "data": {
      "text/html": [
       "<style>#sk-container-id-1 {color: black;background-color: white;}#sk-container-id-1 pre{padding: 0;}#sk-container-id-1 div.sk-toggleable {background-color: white;}#sk-container-id-1 label.sk-toggleable__label {cursor: pointer;display: block;width: 100%;margin-bottom: 0;padding: 0.3em;box-sizing: border-box;text-align: center;}#sk-container-id-1 label.sk-toggleable__label-arrow:before {content: \"▸\";float: left;margin-right: 0.25em;color: #696969;}#sk-container-id-1 label.sk-toggleable__label-arrow:hover:before {color: black;}#sk-container-id-1 div.sk-estimator:hover label.sk-toggleable__label-arrow:before {color: black;}#sk-container-id-1 div.sk-toggleable__content {max-height: 0;max-width: 0;overflow: hidden;text-align: left;background-color: #f0f8ff;}#sk-container-id-1 div.sk-toggleable__content pre {margin: 0.2em;color: black;border-radius: 0.25em;background-color: #f0f8ff;}#sk-container-id-1 input.sk-toggleable__control:checked~div.sk-toggleable__content {max-height: 200px;max-width: 100%;overflow: auto;}#sk-container-id-1 input.sk-toggleable__control:checked~label.sk-toggleable__label-arrow:before {content: \"▾\";}#sk-container-id-1 div.sk-estimator input.sk-toggleable__control:checked~label.sk-toggleable__label {background-color: #d4ebff;}#sk-container-id-1 div.sk-label input.sk-toggleable__control:checked~label.sk-toggleable__label {background-color: #d4ebff;}#sk-container-id-1 input.sk-hidden--visually {border: 0;clip: rect(1px 1px 1px 1px);clip: rect(1px, 1px, 1px, 1px);height: 1px;margin: -1px;overflow: hidden;padding: 0;position: absolute;width: 1px;}#sk-container-id-1 div.sk-estimator {font-family: monospace;background-color: #f0f8ff;border: 1px dotted black;border-radius: 0.25em;box-sizing: border-box;margin-bottom: 0.5em;}#sk-container-id-1 div.sk-estimator:hover {background-color: #d4ebff;}#sk-container-id-1 div.sk-parallel-item::after {content: \"\";width: 100%;border-bottom: 1px solid gray;flex-grow: 1;}#sk-container-id-1 div.sk-label:hover label.sk-toggleable__label {background-color: #d4ebff;}#sk-container-id-1 div.sk-serial::before {content: \"\";position: absolute;border-left: 1px solid gray;box-sizing: border-box;top: 0;bottom: 0;left: 50%;z-index: 0;}#sk-container-id-1 div.sk-serial {display: flex;flex-direction: column;align-items: center;background-color: white;padding-right: 0.2em;padding-left: 0.2em;position: relative;}#sk-container-id-1 div.sk-item {position: relative;z-index: 1;}#sk-container-id-1 div.sk-parallel {display: flex;align-items: stretch;justify-content: center;background-color: white;position: relative;}#sk-container-id-1 div.sk-item::before, #sk-container-id-1 div.sk-parallel-item::before {content: \"\";position: absolute;border-left: 1px solid gray;box-sizing: border-box;top: 0;bottom: 0;left: 50%;z-index: -1;}#sk-container-id-1 div.sk-parallel-item {display: flex;flex-direction: column;z-index: 1;position: relative;background-color: white;}#sk-container-id-1 div.sk-parallel-item:first-child::after {align-self: flex-end;width: 50%;}#sk-container-id-1 div.sk-parallel-item:last-child::after {align-self: flex-start;width: 50%;}#sk-container-id-1 div.sk-parallel-item:only-child::after {width: 0;}#sk-container-id-1 div.sk-dashed-wrapped {border: 1px dashed gray;margin: 0 0.4em 0.5em 0.4em;box-sizing: border-box;padding-bottom: 0.4em;background-color: white;}#sk-container-id-1 div.sk-label label {font-family: monospace;font-weight: bold;display: inline-block;line-height: 1.2em;}#sk-container-id-1 div.sk-label-container {text-align: center;}#sk-container-id-1 div.sk-container {/* jupyter's `normalize.less` sets `[hidden] { display: none; }` but bootstrap.min.css set `[hidden] { display: none !important; }` so we also need the `!important` here to be able to override the default hidden behavior on the sphinx rendered scikit-learn.org. See: https://github.com/scikit-learn/scikit-learn/issues/21755 */display: inline-block !important;position: relative;}#sk-container-id-1 div.sk-text-repr-fallback {display: none;}</style><div id=\"sk-container-id-1\" class=\"sk-top-container\"><div class=\"sk-text-repr-fallback\"><pre>LogisticRegression()</pre><b>In a Jupyter environment, please rerun this cell to show the HTML representation or trust the notebook. <br />On GitHub, the HTML representation is unable to render, please try loading this page with nbviewer.org.</b></div><div class=\"sk-container\" hidden><div class=\"sk-item\"><div class=\"sk-estimator sk-toggleable\"><input class=\"sk-toggleable__control sk-hidden--visually\" id=\"sk-estimator-id-1\" type=\"checkbox\" checked><label for=\"sk-estimator-id-1\" class=\"sk-toggleable__label sk-toggleable__label-arrow\">LogisticRegression</label><div class=\"sk-toggleable__content\"><pre>LogisticRegression()</pre></div></div></div></div></div>"
      ],
      "text/plain": [
       "LogisticRegression()"
      ]
     },
     "execution_count": 25,
     "metadata": {},
     "output_type": "execute_result"
    }
   ],
   "source": [
    "model.fit(x_train , y_train)"
   ]
  },
  {
   "cell_type": "code",
   "execution_count": 26,
   "id": "b48dfaa4",
   "metadata": {
    "execution": {
     "iopub.execute_input": "2024-09-05T19:34:08.542742Z",
     "iopub.status.busy": "2024-09-05T19:34:08.541993Z",
     "iopub.status.idle": "2024-09-05T19:34:08.559646Z",
     "shell.execute_reply": "2024-09-05T19:34:08.558107Z"
    },
    "papermill": {
     "duration": 0.054947,
     "end_time": "2024-09-05T19:34:08.563705",
     "exception": false,
     "start_time": "2024-09-05T19:34:08.508758",
     "status": "completed"
    },
    "tags": []
   },
   "outputs": [],
   "source": [
    "train_prediction = model.predict(x_train)\n",
    "training_accuracy = accuracy_score(train_prediction , y_train) "
   ]
  },
  {
   "cell_type": "code",
   "execution_count": 27,
   "id": "577fd0f7",
   "metadata": {
    "execution": {
     "iopub.execute_input": "2024-09-05T19:34:08.629519Z",
     "iopub.status.busy": "2024-09-05T19:34:08.628737Z",
     "iopub.status.idle": "2024-09-05T19:34:08.639479Z",
     "shell.execute_reply": "2024-09-05T19:34:08.637932Z"
    },
    "papermill": {
     "duration": 0.048682,
     "end_time": "2024-09-05T19:34:08.643685",
     "exception": false,
     "start_time": "2024-09-05T19:34:08.595003",
     "status": "completed"
    },
    "tags": []
   },
   "outputs": [
    {
     "data": {
      "text/plain": [
       "0.9021601016518425"
      ]
     },
     "execution_count": 27,
     "metadata": {},
     "output_type": "execute_result"
    }
   ],
   "source": [
    "training_accuracy"
   ]
  },
  {
   "cell_type": "code",
   "execution_count": 28,
   "id": "a6402023",
   "metadata": {
    "execution": {
     "iopub.execute_input": "2024-09-05T19:34:08.690662Z",
     "iopub.status.busy": "2024-09-05T19:34:08.690242Z",
     "iopub.status.idle": "2024-09-05T19:34:08.698988Z",
     "shell.execute_reply": "2024-09-05T19:34:08.697789Z"
    },
    "papermill": {
     "duration": 0.027627,
     "end_time": "2024-09-05T19:34:08.701517",
     "exception": false,
     "start_time": "2024-09-05T19:34:08.673890",
     "status": "completed"
    },
    "tags": []
   },
   "outputs": [],
   "source": [
    "test_prediction = model.predict(x_test)\n",
    "testing_accuracy =  accuracy_score(test_prediction , y_test)"
   ]
  }
 ],
 "metadata": {
  "kaggle": {
   "accelerator": "none",
   "dataSources": [
    {
     "datasetId": 310,
     "sourceId": 23498,
     "sourceType": "datasetVersion"
    }
   ],
   "dockerImageVersionId": 30761,
   "isGpuEnabled": false,
   "isInternetEnabled": false,
   "language": "python",
   "sourceType": "notebook"
  },
  "kernelspec": {
   "display_name": "Python 3",
   "language": "python",
   "name": "python3"
  },
  "language_info": {
   "codemirror_mode": {
    "name": "ipython",
    "version": 3
   },
   "file_extension": ".py",
   "mimetype": "text/x-python",
   "name": "python",
   "nbconvert_exporter": "python",
   "pygments_lexer": "ipython3",
   "version": "3.10.14"
  },
  "papermill": {
   "default_parameters": {},
   "duration": 13.656284,
   "end_time": "2024-09-05T19:34:09.439339",
   "environment_variables": {},
   "exception": null,
   "input_path": "__notebook__.ipynb",
   "output_path": "__notebook__.ipynb",
   "parameters": {},
   "start_time": "2024-09-05T19:33:55.783055",
   "version": "2.6.0"
  }
 },
 "nbformat": 4,
 "nbformat_minor": 5
}
